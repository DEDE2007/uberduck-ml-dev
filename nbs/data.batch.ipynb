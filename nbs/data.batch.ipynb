{
 "cells": [
  {
   "cell_type": "code",
   "execution_count": null,
   "id": "1675bdc4",
   "metadata": {},
   "outputs": [],
   "source": [
    "# default_exp data.batch"
   ]
  },
  {
   "cell_type": "code",
   "execution_count": null,
   "id": "2e470057",
   "metadata": {},
   "outputs": [],
   "source": [
    "# export\n",
    "from dataclasses import dataclass\n",
    "import torch\n",
    "from typing import NamedTuple, Optional\n",
    "\n",
    "\n",
    "class Batch(NamedTuple):\n",
    "\n",
    "    text_int_padded: torch.Tensor\n",
    "    input_lengths: list\n",
    "    mel_padded: torch.Tensor\n",
    "    gate_padded: list\n",
    "    output_lengths: list\n",
    "    speaker_ids: list\n",
    "    f0_padded: list\n",
    "    gst: torch.Tensor\n",
    "    durations_padded: Optional[torch.Tensor] = None\n",
    "    max_len: Optional[int] = None"
   ]
  },
  {
   "cell_type": "code",
   "execution_count": null,
   "id": "d3baf0cf",
   "metadata": {},
   "outputs": [],
   "source": [
    "batch = Batch(torch.tensor([]), [], torch.tensor([]), [], [], [], [], torch.tensor([]))\n",
    "assert batch.durations_padded is None\n",
    "assert batch.max_len is None\n",
    "batch = Batch(\n",
    "    torch.tensor([]), [], torch.tensor([]), [], [], [], [], torch.tensor([]), max_len=4\n",
    ")\n",
    "assert batch.max_len == 4"
   ]
  },
  {
   "cell_type": "code",
   "execution_count": null,
   "id": "2d8eb1ca",
   "metadata": {},
   "outputs": [],
   "source": []
  }
 ],
 "metadata": {
  "kernelspec": {
   "display_name": "Python [conda env:root] *",
   "language": "python",
   "name": "conda-root-py"
  }
 },
 "nbformat": 4,
 "nbformat_minor": 5
}
