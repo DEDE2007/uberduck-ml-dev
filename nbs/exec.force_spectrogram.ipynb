{
 "cells": [
  {
   "cell_type": "markdown",
   "id": "a5259aa5",
   "metadata": {},
   "source": [
    "<h1>Table of Contents<span class=\"tocSkip\"></span></h1>\n",
    "<div class=\"toc\"><ul class=\"toc-item\"><li><span><a href=\"#uberduck_ml_dev.exec.force_spectrogram\" data-toc-modified-id=\"uberduck_ml_dev.exec.force_spectrogram-1\"><span class=\"toc-item-num\">1&nbsp;&nbsp;</span>uberduck_ml_dev.exec.force_spectrogram</a></span></li></ul></div>"
   ]
  },
  {
   "cell_type": "code",
   "execution_count": null,
   "id": "16c70302",
   "metadata": {},
   "outputs": [],
   "source": [
    "# default_exp exec.force_spectrogram"
   ]
  },
  {
   "cell_type": "markdown",
   "id": "1ed1ab55",
   "metadata": {},
   "source": [
    "# uberduck_ml_dev.exec.force_spectrogram"
   ]
  },
  {
   "cell_type": "code",
   "execution_count": null,
   "id": "2093cc19",
   "metadata": {},
   "outputs": [],
   "source": [
    "# export\n",
    "import argparse\n",
    "from collections import namedtuple\n",
    "from dataclasses import dataclass\n",
    "import json\n",
    "import os\n",
    "from pathlib import Path\n",
    "from shutil import copyfile, copytree\n",
    "import sys\n",
    "import torch\n",
    "from typing import List, Optional, Set\n",
    "\n",
    "from tqdm import tqdm\n",
    "\n",
    "from nemo.collections.tts.models import TalkNetSpectModel\n",
    "\n",
    "\n",
    "def parse_args(args):\n",
    "    parser = argparse.ArgumentParser()\n",
    "    parser.add_argument(\n",
    "        \"-m\", \"--model\", default=\"Path to model state dict\", required=True\n",
    "    )\n",
    "    parser.add_argument(\"-f\", \"--filelist\", default=\"Path to filelist\", required=True)\n",
    "    parser.add_argument(\n",
    "        \"-t\", \"--model-type\", help=\"model type\", required=True, default=\"talknet\"\n",
    "    )\n",
    "    parser.add_argument(\"--durations\")\n",
    "    parser.add_argument(\"--f0s\")\n",
    "    parser.add_argument(\"--cuda\", default=torch.cuda.is_available())\n",
    "    return parser.parse_args(args)\n",
    "\n",
    "\n",
    "def run(args):\n",
    "    if args.model_type != \"talknet\":\n",
    "        raise Exception(\"Supported model types: talknet\")\n",
    "    model = TalkNetSpectModel.restore_from(args.model)\n",
    "    model.eval()\n",
    "    durs = torch.load(args.durations)\n",
    "    f0s = torch.load(args.f0s)\n",
    "    with open(args.filelist) as f:\n",
    "        lines = readlines()\n",
    "    for line in tqdm(lines):\n",
    "        path = line.split(\"|\")[0].strip()\n",
    "        line_name, _ = os.path.splitext(os.path.basename(path))\n",
    "        line_tokens = model.parse(text=line.split(\"|\")[1].strip())\n",
    "        line_durs = (\n",
    "            torch.stack(\n",
    "                (\n",
    "                    durs[line_name][\"blanks\"],\n",
    "                    torch.cat((durs[line_name][\"tokens\"], torch.zeros(1).int())),\n",
    "                ),\n",
    "                dim=1,\n",
    "            )\n",
    "            .view(-1)[:-1]\n",
    "            .view(1, -1)\n",
    "        )\n",
    "        x_f0s = f0s[line_name].view(1, -1)\n",
    "        if args.cuda:\n",
    "            line_durs = line_durs.cuda()\n",
    "            x_f0s = x_f0s.cuda()\n",
    "\n",
    "        spect = model.force_spectrogram(tokens=line_tokens, durs=line_durs, f0=line_f0s)\n",
    "        out_path = path.replace(\".wav\", \".npy\")\n",
    "        np.save(out_path, spect.detach().cpu().numpy())\n",
    "\n",
    "\n",
    "try:\n",
    "    from nbdev.imports import IN_NOTEBOOK\n",
    "except:\n",
    "    IN_NOTEBOOK = False\n",
    "\n",
    "if __name__ == \"__main__\" and not IN_NOTEBOOK:\n",
    "    args = parse_args(sys.argv[1:])\n",
    "    run(args)"
   ]
  },
  {
   "cell_type": "code",
   "execution_count": null,
   "id": "f4e7a1fd",
   "metadata": {},
   "outputs": [
    {
     "ename": "AttributeError",
     "evalue": "'ArgumentParser' object has no attribute 'add_arument'",
     "output_type": "error",
     "traceback": [
      "\u001b[0;31m---------------------------------------------------------------------------\u001b[0m",
      "\u001b[0;31mAttributeError\u001b[0m                            Traceback (most recent call last)",
      "\u001b[0;32m/var/folders/9n/w8qrq4mx4cl_j036z8wg_9nh0000gp/T/ipykernel_5820/3664344274.py\u001b[0m in \u001b[0;36m<module>\u001b[0;34m\u001b[0m\n\u001b[0;32m----> 1\u001b[0;31m \u001b[0margs\u001b[0m \u001b[0;34m=\u001b[0m \u001b[0mparse_args\u001b[0m\u001b[0;34m(\u001b[0m\u001b[0;34m[\u001b[0m\u001b[0;34m\"--config\"\u001b[0m\u001b[0;34m,\u001b[0m \u001b[0;34m\"foo.json\"\u001b[0m\u001b[0;34m,\u001b[0m \u001b[0;34m\"-o\"\u001b[0m\u001b[0;34m,\u001b[0m \u001b[0;34m\"bar.out\"\u001b[0m\u001b[0;34m]\u001b[0m\u001b[0;34m)\u001b[0m\u001b[0;34m\u001b[0m\u001b[0;34m\u001b[0m\u001b[0m\n\u001b[0m\u001b[1;32m      2\u001b[0m \u001b[0;32massert\u001b[0m \u001b[0margs\u001b[0m\u001b[0;34m.\u001b[0m\u001b[0mconfig\u001b[0m \u001b[0;34m==\u001b[0m \u001b[0;34m\"foo.json\"\u001b[0m\u001b[0;34m\u001b[0m\u001b[0;34m\u001b[0m\u001b[0m\n\u001b[1;32m      3\u001b[0m \u001b[0;32massert\u001b[0m \u001b[0margs\u001b[0m\u001b[0;34m.\u001b[0m\u001b[0mout\u001b[0m \u001b[0;34m==\u001b[0m \u001b[0;34m\"bar.out\"\u001b[0m\u001b[0;34m\u001b[0m\u001b[0;34m\u001b[0m\u001b[0m\n\u001b[1;32m      4\u001b[0m \u001b[0;32massert\u001b[0m \u001b[0margs\u001b[0m\u001b[0;34m.\u001b[0m\u001b[0mdatabase\u001b[0m \u001b[0;34m==\u001b[0m \u001b[0mCACHE_LOCATION\u001b[0m\u001b[0;34m\u001b[0m\u001b[0;34m\u001b[0m\u001b[0m\n",
      "\u001b[0;32m/var/folders/9n/w8qrq4mx4cl_j036z8wg_9nh0000gp/T/ipykernel_5820/3227546589.py\u001b[0m in \u001b[0;36mparse_args\u001b[0;34m(args)\u001b[0m\n\u001b[1;32m     26\u001b[0m     \u001b[0mparser\u001b[0m \u001b[0;34m=\u001b[0m \u001b[0margparse\u001b[0m\u001b[0;34m.\u001b[0m\u001b[0mArgumentParser\u001b[0m\u001b[0;34m(\u001b[0m\u001b[0;34m)\u001b[0m\u001b[0;34m\u001b[0m\u001b[0;34m\u001b[0m\u001b[0m\n\u001b[1;32m     27\u001b[0m     \u001b[0mparser\u001b[0m\u001b[0;34m.\u001b[0m\u001b[0madd_argument\u001b[0m\u001b[0;34m(\u001b[0m\u001b[0;34m\"-m\"\u001b[0m\u001b[0;34m,\u001b[0m \u001b[0;34m\"--model\"\u001b[0m\u001b[0;34m,\u001b[0m \u001b[0mdefault\u001b[0m\u001b[0;34m=\u001b[0m\u001b[0;34m\"Path to model state dict\"\u001b[0m\u001b[0;34m,\u001b[0m \u001b[0mrequired\u001b[0m\u001b[0;34m=\u001b[0m\u001b[0;32mTrue\u001b[0m\u001b[0;34m)\u001b[0m\u001b[0;34m\u001b[0m\u001b[0;34m\u001b[0m\u001b[0m\n\u001b[0;32m---> 28\u001b[0;31m     \u001b[0mparser\u001b[0m\u001b[0;34m.\u001b[0m\u001b[0madd_arument\u001b[0m\u001b[0;34m(\u001b[0m\u001b[0;34m\"-f\"\u001b[0m\u001b[0;34m,\u001b[0m \u001b[0;34m\"--filelist\"\u001b[0m\u001b[0;34m,\u001b[0m \u001b[0mdefault\u001b[0m\u001b[0;34m=\u001b[0m\u001b[0;34m\"Path to filelist\"\u001b[0m\u001b[0;34m,\u001b[0m \u001b[0mrequired\u001b[0m\u001b[0;34m=\u001b[0m\u001b[0;32mTrue\u001b[0m\u001b[0;34m)\u001b[0m\u001b[0;34m\u001b[0m\u001b[0;34m\u001b[0m\u001b[0m\n\u001b[0m\u001b[1;32m     29\u001b[0m     \u001b[0mparser\u001b[0m\u001b[0;34m.\u001b[0m\u001b[0madd_argument\u001b[0m\u001b[0;34m(\u001b[0m\u001b[0;34m\"-t\"\u001b[0m\u001b[0;34m,\u001b[0m \u001b[0;34m\"--model-type\"\u001b[0m\u001b[0;34m,\u001b[0m \u001b[0mhelp\u001b[0m\u001b[0;34m=\u001b[0m\u001b[0;34m\"model type\"\u001b[0m\u001b[0;34m,\u001b[0m \u001b[0mrequired\u001b[0m\u001b[0;34m=\u001b[0m\u001b[0;32mTrue\u001b[0m\u001b[0;34m,\u001b[0m \u001b[0mdefault\u001b[0m\u001b[0;34m=\u001b[0m\u001b[0;34m\"talknet\"\u001b[0m\u001b[0;34m)\u001b[0m\u001b[0;34m\u001b[0m\u001b[0;34m\u001b[0m\u001b[0m\n\u001b[1;32m     30\u001b[0m     \u001b[0;32mreturn\u001b[0m \u001b[0mparser\u001b[0m\u001b[0;34m.\u001b[0m\u001b[0mparse_args\u001b[0m\u001b[0;34m(\u001b[0m\u001b[0margs\u001b[0m\u001b[0;34m)\u001b[0m\u001b[0;34m\u001b[0m\u001b[0;34m\u001b[0m\u001b[0m\n",
      "\u001b[0;31mAttributeError\u001b[0m: 'ArgumentParser' object has no attribute 'add_arument'"
     ]
    }
   ],
   "source": [
    "args = parse_args([\"--config\", \"foo.json\", \"-o\", \"bar.out\"])\n",
    "assert args.config == \"foo.json\"\n",
    "assert args.out == \"bar.out\"\n",
    "assert args.database == CACHE_LOCATION"
   ]
  },
  {
   "cell_type": "code",
   "execution_count": null,
   "id": "dbfd57a3",
   "metadata": {},
   "outputs": [],
   "source": []
  }
 ],
 "metadata": {
  "kernelspec": {
   "display_name": "Python 3 (ipykernel)",
   "language": "python",
   "name": "python3"
  }
 },
 "nbformat": 4,
 "nbformat_minor": 5
}
